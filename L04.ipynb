{
 "cells": [
  {
   "cell_type": "markdown",
   "metadata": {},
   "source": [
    "# Lecture 4 -- dynamics of the rimless wheel\n",
    "\n",
    "In this notebook we will analyze the steady state dynamics of the rimless wheel."
   ]
  },
  {
   "cell_type": "code",
   "execution_count": 15,
   "metadata": {},
   "outputs": [],
   "source": [
    "import numpy as np\n",
    "from scipy.integrate import solve_ivp\n",
    "\n",
    "import matplotlib as mpl\n",
    "mpl.use('Qt5Agg')\n",
    "\n",
    "import matplotlib.pyplot as plt\n",
    "plt.ion()\n",
    "\n",
    "\n",
    "import warnings\n",
    "warnings.filterwarnings('ignore')"
   ]
  },
  {
   "cell_type": "markdown",
   "metadata": {},
   "source": [
    "Let's define a helper function to convert between rad->deg"
   ]
  },
  {
   "cell_type": "code",
   "execution_count": 16,
   "metadata": {},
   "outputs": [],
   "source": [
    "def deg2rad(deg):\n",
    "    return deg*np.pi/180"
   ]
  },
  {
   "cell_type": "markdown",
   "metadata": {},
   "source": [
    "## Define the initial conditions\n",
    "\n",
    "We will use these to first derive our simulation of the wheel dynamics. The rimless wheel parameters are shown in the diagram below. \n",
    "\n",
    "![](rimless_wheel.png)"
   ]
  },
  {
   "cell_type": "code",
   "execution_count": 17,
   "metadata": {},
   "outputs": [],
   "source": [
    "# System constants\n",
    "L = 1 \n",
    "alpha = deg2rad(20)\n",
    "gamma = deg2rad(30)\n",
    "gravity = 9.8\n",
    "\n",
    "# Initial condition\n",
    "theta = 0\n",
    "dtheta_dt = .1\n",
    "\n",
    "dt = 0.001\n",
    "time = np.linspace(0,10,10/dt)"
   ]
  },
  {
   "cell_type": "markdown",
   "metadata": {},
   "source": [
    "## Define the equations of motions\n",
    "\n",
    "The equations of motion of the wheel are just that of an inverted pendulum, with the caveat that when the wheel angle reaches $\\alpha + \\gamma$ the next stance phase is initiated. So let's also define a step_event to detect collisions, and a reset function to reset the state variables to the next stance."
   ]
  },
  {
   "cell_type": "code",
   "execution_count": 18,
   "metadata": {},
   "outputs": [],
   "source": [
    "# General inverted pendulum simulator\n",
    "def rimless_wheel(t, state, l):\n",
    "    theta, omega = state\n",
    "    dydt = [omega, (gravity/l)*np.sin(theta)]\n",
    "    return dydt\n",
    "\n",
    "# Detect a step\n",
    "def step_event(t, state):\n",
    "    theta, omega = state\n",
    "    return theta - (alpha + gamma) # when this is zero a collision occurred\n",
    "    \n",
    "step_event.terminal = True\n",
    "\n",
    "# The wheel has a specific reset condition where energy is taken out of the \n",
    "# the system v_new = v_old*cos(2*alpha)\n",
    "def collision_reset(state):\n",
    "    theta, omega = state\n",
    "    \n",
    "    theta = gamma - alpha\n",
    "    omega = omega * np.cos(2*alpha)\n",
    "    \n",
    "    return [theta, omega]\n",
    "\n"
   ]
  },
  {
   "cell_type": "markdown",
   "metadata": {},
   "source": [
    "Check that we can detect the foot touch-down event"
   ]
  },
  {
   "cell_type": "code",
   "execution_count": 19,
   "metadata": {},
   "outputs": [
    {
     "data": {
      "text/plain": [
       "<Figure size 1280x960 with 1 Axes>"
      ]
     },
     "execution_count": 19,
     "metadata": {},
     "output_type": "execute_result"
    }
   ],
   "source": [
    "sol = solve_ivp(lambda t, y: rimless_wheel(t, y, L), \n",
    "                [0,10], [theta, 1], \n",
    "                t_eval = time,\n",
    "                events = step_event)\n",
    "\n",
    "plt.clf()\n",
    "plt.plot(sol.t, sol.y[0,:])\n",
    "plt.ylabel('$\\\\theta$')\n",
    "plt.xlabel('time')\n",
    "plt.gcf()"
   ]
  },
  {
   "cell_type": "markdown",
   "metadata": {},
   "source": [
    "Cool, so the above plot shows the wheel rolling down the hill until the next spoke hits the ground. Then, as we specified in the solver the integration stops. This is simulating one step!\n",
    "\n",
    "\n",
    "Now let's simulate two steps with a foot reset"
   ]
  },
  {
   "cell_type": "code",
   "execution_count": 20,
   "metadata": {},
   "outputs": [
    {
     "data": {
      "text/plain": [
       "<Figure size 640x480 with 1 Axes>"
      ]
     },
     "execution_count": 20,
     "metadata": {},
     "output_type": "execute_result"
    }
   ],
   "source": [
    "t_data = []\n",
    "y1 = []\n",
    "y2 = []\n",
    "\n",
    "sol = solve_ivp(lambda t, y: rimless_wheel(t, y, L), \n",
    "                [0,10], [theta, 1], \n",
    "                t_eval = time,\n",
    "                events = step_event)\n",
    "\n",
    "end_step = sol.t.shape[0]\n",
    "reset_state = collision_reset(sol.y[:,-1])\n",
    "t_data.append(sol.t)\n",
    "y1.append(sol.y[0,:])\n",
    "y2.append(sol.y[1,:])\n",
    "\n",
    "\n",
    "sol = solve_ivp(lambda t, y: rimless_wheel(t, y, L), \n",
    "                [time[end_step],10], reset_state, \n",
    "                t_eval = time[end_step:],\n",
    "                events = step_event)\n",
    "\n",
    "end_step = sol.t.shape[0]\n",
    "reset_state = collision_reset(sol.y[:,-1])\n",
    "t_data.append(sol.t)\n",
    "y1.append(sol.y[0,:])\n",
    "y2.append(sol.y[1,:])\n",
    "\n",
    "plt.clf()\n",
    "plt.plot(t_data[0], y1[0])\n",
    "plt.plot(t_data[1], y1[1])\n",
    "plt.ylabel('$\\\\theta$')\n",
    "plt.xlabel('time')\n",
    "plt.gcf()"
   ]
  },
  {
   "cell_type": "markdown",
   "metadata": {},
   "source": [
    "Cool again, now we see two steps, both ending at the same $\\theta$ but with a slightly different shape to them. \n",
    "\n",
    "Now lets simulate 20 steps!"
   ]
  },
  {
   "cell_type": "code",
   "execution_count": 21,
   "metadata": {},
   "outputs": [
    {
     "data": {
      "text/plain": [
       "<Figure size 640x480 with 1 Axes>"
      ]
     },
     "execution_count": 21,
     "metadata": {},
     "output_type": "execute_result"
    }
   ],
   "source": [
    "# initialize data storage lists\n",
    "t_data = []\n",
    "y1 = []\n",
    "y2 = []\n",
    "\n",
    "# this is the starting state\n",
    "reset_state = [0, 0.0005]\n",
    "t0 = 0\n",
    "\n",
    "# Loop through 20 steps\n",
    "for kk in range(20):\n",
    "    sol = solve_ivp(lambda t, y: rimless_wheel(t, y, L), \n",
    "                [t0,10], reset_state, \n",
    "                t_eval = np.linspace(t0+dt, 10, (10-(t0-dt))/dt),\n",
    "                events = step_event)\n",
    "    \n",
    "    t0 = sol.t[-1]\n",
    "    reset_state = collision_reset(sol.y[:,-1])\n",
    "    t_data.append(sol.t)\n",
    "    y1.append(sol.y[0,:])\n",
    "    y2.append(sol.y[1,:])\n",
    "    \n",
    "    if t0 == 10.:\n",
    "        break\n",
    "\n",
    "plt.clf()\n",
    "\n",
    "for tt, yy in zip(t_data, y1):\n",
    "    plt.plot(tt, yy)\n",
    "\n",
    "plt.ylabel('$\\\\theta$')\n",
    "plt.xlabel('time')\n",
    "plt.gcf()\n"
   ]
  },
  {
   "cell_type": "markdown",
   "metadata": {},
   "source": [
    "Very cool. We notice something about this system, the initially are different but start to approach a similar shape.\n",
    "\n",
    "We can visualize this in a different way by plotting the phase space $(x, y) = (\\theta, \\dot{\\theta})$"
   ]
  },
  {
   "cell_type": "code",
   "execution_count": 22,
   "metadata": {},
   "outputs": [
    {
     "data": {
      "text/plain": [
       "<Figure size 640x480 with 1 Axes>"
      ]
     },
     "execution_count": 22,
     "metadata": {},
     "output_type": "execute_result"
    }
   ],
   "source": [
    "t_data = []\n",
    "y1 = []\n",
    "y2 = []\n",
    "\n",
    "# this is the starting state\n",
    "reset_state = [deg2rad(0), 0.15]\n",
    "t0 = 0\n",
    "end_time = 20\n",
    "\n",
    "gamma = np.pi/10\n",
    "alpha = np.pi/5.5\n",
    "\n",
    "# Loop through 20 steps\n",
    "for kk in range(20):\n",
    "    sol = solve_ivp(lambda t, y: rimless_wheel(t, y, L), \n",
    "                [t0,end_time], reset_state, \n",
    "                t_eval = np.linspace(t0+dt, end_time, (end_time-(t0-dt))/dt),\n",
    "                events = step_event)\n",
    "    \n",
    "    t0 = sol.t[-1]\n",
    "    reset_state = collision_reset(sol.y[:,-1])\n",
    "    t_data.append(sol.t)\n",
    "    y1.append(sol.y[0,:])\n",
    "    y2.append(sol.y[1,:])\n",
    "    \n",
    "    if t0 == end_time:\n",
    "        break\n",
    "\n",
    "plt.clf()\n",
    "plt.plot([-2,2],[0,0], color = [.9, .9, .9])\n",
    "plt.plot([0,0],[-20,20], color = [.9, .9, .9])\n",
    "for yy1, yy2 in zip(y1, y2):\n",
    "    plt.plot(yy1, yy2)\n",
    "\n",
    "plt.axis([-.7, .7, -3, 3])\n",
    "plt.xlabel('$\\\\theta$')\n",
    "plt.ylabel('$\\dot{\\\\theta}$')\n",
    "plt.gcf()"
   ]
  },
  {
   "cell_type": "markdown",
   "metadata": {},
   "source": [
    "To watch the evolution of this system let's animate the wheel and the evolution through phase space. I have included a .gif below of what you should see. "
   ]
  },
  {
   "cell_type": "code",
   "execution_count": null,
   "metadata": {},
   "outputs": [],
   "source": [
    "def animate_rimless_wheel(timeseries_list, theta_series_list, theta_dot_series_list, gamma, alpha, skip = 1):\n",
    "    \n",
    "    theta_dot_series = np.hstack(theta_dot_series_list)\n",
    "    theta_series = np.hstack(theta_series_list)\n",
    "    timeseries = np.hstack(timeseries_list)\n",
    "    \n",
    "    timeseries = timeseries[0::skip]\n",
    "    theta_series = theta_series[0::skip]\n",
    "    theta_dot_series = theta_dot_series[0::skip]\n",
    "\n",
    "    plt.clf()\n",
    "    plt.subplot(1,2,1)\n",
    "    plt.subplot(1,2,2)\n",
    "\n",
    "    for yy1, yy2 in zip(theta_series_list, theta_dot_series_list):\n",
    "        plt.plot(yy1, yy2, color=[0.7, 0.7, 0.7])\n",
    "    \n",
    "    marker, = plt.plot(theta_series[0], theta_dot_series[0], 'ro')\n",
    "    plt.axis([-1, 1, -5, 5])\n",
    "    plt.xlabel('$\\\\theta$')\n",
    "    plt.ylabel('$\\dot{\\\\theta}$')\n",
    "\n",
    "    left_or_right = 0\n",
    "    \n",
    "    for kk, (tt, q, q_dot) in enumerate(zip(timeseries, theta_series, theta_dot_series)):\n",
    "        plt.subplot(1,2,1)\n",
    "        plt.cla()\n",
    "        plt.plot(np.array([0, np.cos(-q + np.pi/2)]) - np.cos(-q + np.pi/2), \\\n",
    "                 np.array([0, np.sin(-q + np.pi/2)]) - np.sin(-q + np.pi/2), 'ko-')\n",
    "        plt.plot(np.array([0, np.cos(-(q-2*alpha) + np.pi/2)]) - np.cos(-(q-2*alpha) + np.pi/2), \\\n",
    "                 np.array([0, np.sin(-(q-2*alpha) + np.pi/2)]) - np.sin(-(q-2*alpha) + np.pi/2), 'ko-')\n",
    "\n",
    "        plt.plot(np.array([-10*np.cos(gamma), 10*np.cos(gamma)]) - np.cos(-q + np.pi/2), \n",
    "                 np.array([10*np.sin(gamma), -10*np.sin(gamma)]) - np.sin(-q + np.pi/2))\n",
    "                  \n",
    "        plt.axis([-2,2,-2,2])\n",
    "                  \n",
    "                  \n",
    "        plt.subplot(1,2,2)\n",
    "        marker.set_xdata(q)\n",
    "        marker.set_ydata(q_dot)\n",
    "    \n",
    "        plt.title(tt)\n",
    "        \n",
    "        plt.pause(0.001)\n",
    "        \n",
    "        # If you want to save to make a gif\n",
    "#         plt.savefig(\"{:05}\".format(kk) + \".png\")\n",
    "\n",
    "\n",
    "animate_rimless_wheel(t_data, y1, y2, gamma, alpha, skip = 20)\n",
    "    \n",
    "    \n",
    "    "
   ]
  },
  {
   "cell_type": "markdown",
   "metadata": {},
   "source": [
    "Let's also make a function to integrate the dynamics easilu"
   ]
  },
  {
   "cell_type": "code",
   "execution_count": null,
   "metadata": {},
   "outputs": [],
   "source": [
    "def simulate_rimless(initial_state, gamma, alpha, t0 = 0, end_time = 20):\n",
    "\n",
    "    t_data = []\n",
    "    y1 = []\n",
    "    y2 = []\n",
    "    reset_state = initial_state\n",
    "\n",
    "    # Loop through 20 steps\n",
    "    for kk in range(20):\n",
    "        sol = solve_ivp(lambda t, y: rimless_wheel(t, y, L), \n",
    "                    [t0,end_time], reset_state, \n",
    "                    t_eval = np.linspace(t0+dt, end_time, (end_time-(t0-dt))/dt),\n",
    "                    events = step_event)\n",
    "\n",
    "        t0 = sol.t[-1]\n",
    "        reset_state = collision_reset(sol.y[:,-1])\n",
    "        t_data.append(sol.t)\n",
    "        y1.append(sol.y[0,:])\n",
    "        y2.append(sol.y[1,:])\n",
    "\n",
    "        if t0 == end_time:\n",
    "            break\n",
    "\n",
    "    return t_data, y1, y2\n",
    "    \n",
    "\n",
    "gamma = np.pi/12\n",
    "alpha = np.pi/6\n",
    "initial = [deg2rad(0), 4.15]\n",
    "\n",
    "t_data, y1, y2 = simulate_rimless(initial, gamma, alpha)\n",
    "\n",
    "animate_rimless_wheel(t_data, y1, y2, gamma, alpha, skip = 20)\n",
    "\n",
    "        "
   ]
  },
  {
   "cell_type": "markdown",
   "metadata": {},
   "source": [
    "Let's try some different parameters"
   ]
  },
  {
   "cell_type": "code",
   "execution_count": 26,
   "metadata": {},
   "outputs": [],
   "source": [
    "# gamma = np.pi/12\n",
    "# alpha = np.pi/6\n",
    "\n",
    "gamma = np.pi/10\n",
    "alpha = np.pi/10.5\n",
    "\n",
    "initial = [deg2rad(0), 5]\n",
    "\n",
    "t_data, y1, y2 = simulate_rimless(initial, gamma, alpha)\n",
    "\n",
    "animate_rimless_wheel(t_data, y1, y2, gamma, alpha, skip = 20)"
   ]
  },
  {
   "cell_type": "code",
   "execution_count": 27,
   "metadata": {},
   "outputs": [],
   "source": [
    "gamma = np.pi/7\n",
    "alpha = np.pi/6\n",
    "initial = [deg2rad(0), 40.15]\n",
    "\n",
    "t_data, y1, y2 = simulate_rimless(initial, gamma, alpha)\n",
    "\n",
    "animate_rimless_wheel(t_data, y1, y2, gamma, alpha, skip = 20)\n",
    "\n"
   ]
  },
  {
   "cell_type": "code",
   "execution_count": 28,
   "metadata": {},
   "outputs": [],
   "source": [
    "gamma = np.pi/12\n",
    "alpha = np.pi/10\n",
    "initial = [deg2rad(0.4), 0]\n",
    "\n",
    "t_data, y1, y2 = simulate_rimless(initial, gamma, alpha)\n",
    "\n",
    "animate_rimless_wheel(t_data, y1, y2, gamma, alpha, skip = 20)\n",
    "\n"
   ]
  },
  {
   "cell_type": "markdown",
   "metadata": {},
   "source": [
    "Ok, now let's map out the phase space for a given alpha and gamma at different initial conditions"
   ]
  },
  {
   "cell_type": "code",
   "execution_count": 30,
   "metadata": {},
   "outputs": [
    {
     "data": {
      "text/plain": [
       "<Figure size 640x480 with 1 Axes>"
      ]
     },
     "execution_count": 30,
     "metadata": {},
     "output_type": "execute_result"
    }
   ],
   "source": [
    "\n",
    "gamma = np.pi/12\n",
    "alpha = np.pi/6\n",
    "\n",
    "random_state = np.array([0.6, 5])*(np.random.rand(100,2))\n",
    "plt.clf()\n",
    "dk = 0.9\n",
    "alpha_viz = 0.2\n",
    "\n",
    "plt.figure()\n",
    "\n",
    "for rnd in random_state:\n",
    "#     print(rnd)\n",
    "    t_data, y1, y2 = simulate_rimless(rnd, gamma, alpha)\n",
    "    plt.plot([-2,2],[0,0], color = [.9, .9, .9])\n",
    "    plt.plot([0,0],[-20,20], color = [.9, .9, .9])\n",
    "    for yy1, yy2 in zip(y1, y2):\n",
    "        plt.plot(yy1, yy2, color = [dk, dk, dk, alpha_viz])\n",
    "\n",
    "plt.axis([-1, 1, -5, 5])\n",
    "plt.xlabel('$\\\\theta$')\n",
    "plt.ylabel('$\\dot{\\\\theta}$')\n",
    "plt.gcf()"
   ]
  },
  {
   "cell_type": "markdown",
   "metadata": {},
   "source": [
    "### Now let's compute the return map\n",
    "\n",
    "For this we only need to keep the previous touchdown velocity, and the new touchdown velocity"
   ]
  },
  {
   "cell_type": "code",
   "execution_count": 31,
   "metadata": {},
   "outputs": [
    {
     "data": {
      "text/plain": [
       "<Figure size 640x480 with 1 Axes>"
      ]
     },
     "execution_count": 31,
     "metadata": {},
     "output_type": "execute_result"
    }
   ],
   "source": [
    "gamma = np.pi/12\n",
    "alpha = np.pi/6\n",
    "\n",
    "random_state = np.array([1, 5])*(np.random.rand(100,2))\n",
    "plt.clf()\n",
    "dk = 0.9\n",
    "alpha_viz = 0.1\n",
    "\n",
    "theta_dot_at_touchdown = []\n",
    "\n",
    "for rnd in random_state:\n",
    "    t_data, y1, y2 = simulate_rimless(rnd, gamma, alpha)\n",
    "    theta_dot_at_touchdown.append([y2[k][0] for k in range(1,len(y2))])\n",
    "\n",
    "for t_touchdown in theta_dot_at_touchdown:\n",
    "    x = t_touchdown[0:-2]\n",
    "    y = t_touchdown[1:-1]\n",
    "    plt.plot(x,y, '.')\n",
    "    \n",
    "plt.plot([0,3],[0,3])\n",
    "\n",
    "plt.xlabel('$\\dot{\\\\theta}_{n}^+$')\n",
    "plt.ylabel('$\\dot{\\\\theta}_{n+1}^+$')\n",
    "plt.gcf()"
   ]
  },
  {
   "cell_type": "markdown",
   "metadata": {},
   "source": [
    "This is a little hard to interpret, so let's animate the return map"
   ]
  },
  {
   "cell_type": "code",
   "execution_count": 33,
   "metadata": {},
   "outputs": [
    {
     "data": {
      "text/plain": [
       "<Figure size 846x587 with 1 Axes>"
      ]
     },
     "execution_count": 33,
     "metadata": {},
     "output_type": "execute_result"
    }
   ],
   "source": [
    "gamma = np.pi/12\n",
    "alpha = np.pi/5.5\n",
    "\n",
    "random_state = np.array([1, 5])*(np.random.rand(10,2))\n",
    "\n",
    "random_state[0,:] = [gamma + alpha-0.03, 0]\n",
    "\n",
    "plt.clf()\n",
    "dk = 0.9\n",
    "alpha_viz = 0.1\n",
    "\n",
    "theta_dot_at_touchdown = []\n",
    "\n",
    "for rnd in random_state:\n",
    "    t_data, y1, y2 = simulate_rimless(rnd, gamma, alpha)\n",
    "    theta_dot_at_touchdown.append([y2[k][0] for k in range(1,len(y2))])\n",
    "    \n",
    "dk = 0.9\n",
    "tstep = 0.05\n",
    "\n",
    "plt.clf()\n",
    "plt.plot([0,3],[0,3])\n",
    "plt.xlabel('$\\dot{\\\\theta}_{n}^+$')\n",
    "plt.ylabel('$\\dot{\\\\theta}_{n+1}^+$')\n",
    "\n",
    "for t_touchdown in theta_dot_at_touchdown:\n",
    "    x = t_touchdown[0:-2]\n",
    "    y = t_touchdown[1:-1]\n",
    "\n",
    "    for kk, (xx, yy) in enumerate(zip(x, y)):\n",
    "        plt.title(kk)\n",
    "        if kk > 0:\n",
    "            plt.plot(x[0:kk], y[0:kk], 'ko')\n",
    "\n",
    "        plt.plot(xx, yy, 'or')\n",
    "        plt.pause(tstep)\n",
    "        plt.plot([xx, yy], [yy, yy], '-', color = [dk, dk, dk])\n",
    "        plt.pause(tstep)\n",
    "        plt.plot([yy, yy], [yy, yy], '-', color = [dk, dk, dk])\n",
    "        plt.pause(tstep)\n",
    "        \n",
    "        if kk+1 < len(x):\n",
    "            plt.plot([yy, yy], [x[kk+1], y[kk+1]], '-', color = [dk, dk, dk])\n",
    "            plt.pause(tstep)\n",
    "\n",
    "# plt.axis([-1, 1, -5, 5])\n",
    "\n",
    "plt.plot(x,y, '.')\n",
    "plt.plot([-1,3],[-1,3])\n",
    "\n",
    "plt.xlabel('$\\dot{\\\\theta}_{n}^+$')\n",
    "plt.ylabel('$\\dot{\\\\theta}_{n+1}^+$')\n",
    "plt.gcf()\n",
    "\n",
    "\n"
   ]
  },
  {
   "cell_type": "markdown",
   "metadata": {},
   "source": [
    "Let's lastly try to plot the theory prediction"
   ]
  },
  {
   "cell_type": "code",
   "execution_count": 34,
   "metadata": {},
   "outputs": [
    {
     "data": {
      "text/plain": [
       "<Figure size 846x587 with 1 Axes>"
      ]
     },
     "execution_count": 34,
     "metadata": {},
     "output_type": "execute_result"
    }
   ],
   "source": [
    "\n",
    "gamma = np.pi/12\n",
    "alpha = np.pi/6\n",
    "\n",
    "random_state = np.array([1, 5])*(np.random.rand(100,2))\n",
    "plt.clf()\n",
    "dk = 0.9\n",
    "alpha_viz = 0.1\n",
    "\n",
    "theta_dot_at_touchdown = []\n",
    "\n",
    "for rnd in random_state:\n",
    "    t_data, y1, y2 = simulate_rimless(rnd, gamma, alpha)\n",
    "    theta_dot_at_touchdown.append([y2[k][0] for k in range(1,len(y2))])\n",
    "\n",
    "for t_touchdown in theta_dot_at_touchdown:\n",
    "    x = t_touchdown[0:-2]\n",
    "    y = t_touchdown[1:-1]\n",
    "    plt.plot(x,y, '.k')\n",
    "    \n",
    "    \n",
    "q_ = np.linspace(0,4,100)\n",
    "q_plus1 = np.cos(2*alpha)*np.sqrt(q_**2 + 4 * (gravity/L)*np.sin(alpha)*np.sin(gamma))\n",
    "\n",
    "plt.plot(q_, q_plus1, '--')\n",
    "                        \n",
    "    \n",
    "plt.plot([0,3],[0,3])\n",
    "\n",
    "plt.xlabel('$\\dot{\\\\theta}_{n}^+$')\n",
    "plt.ylabel('$\\dot{\\\\theta}_{n+1}^+$')\n",
    "plt.gcf()"
   ]
  },
  {
   "cell_type": "markdown",
   "metadata": {},
   "source": [
    "## Fin\n",
    "\n",
    "So that is it. The rimless wheel shows a very nice and structured behavior, settling into walking dynamics that are independent of initial condition (there is some subtlety to this that I won't address here but can be read about [here](https://www.tandfonline.com/doi/abs/10.1080/14689360903429238)).\n",
    "\n"
   ]
  },
  {
   "cell_type": "code",
   "execution_count": null,
   "metadata": {},
   "outputs": [],
   "source": []
  }
 ],
 "metadata": {
  "kernelspec": {
   "display_name": "Python 3",
   "language": "python",
   "name": "python3"
  },
  "language_info": {
   "codemirror_mode": {
    "name": "ipython",
    "version": 3
   },
   "file_extension": ".py",
   "mimetype": "text/x-python",
   "name": "python",
   "nbconvert_exporter": "python",
   "pygments_lexer": "ipython3",
   "version": "3.6.5"
  }
 },
 "nbformat": 4,
 "nbformat_minor": 2
}
